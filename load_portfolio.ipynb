{
 "cells": [
  {
   "attachments": {},
   "cell_type": "markdown",
   "metadata": {},
   "source": [
    "#### Import libraries & define functions"
   ]
  },
  {
   "cell_type": "code",
   "execution_count": 10,
   "metadata": {},
   "outputs": [],
   "source": [
    "from openpyxl import Workbook, load_workbook\n",
    "import pandas as pd\n",
    "\n",
    "dict_fs_items = {'Revenue':[],\n",
    "              'Operational expenditure':[],\n",
    "              'Adjustments':[],\n",
    "              'Change in reserve account':[],\n",
    "              'Capital expenditure':[],\n",
    "              'Funding':[],\n",
    "              'Require balance and DSRA movement':[],\n",
    "              'Shareholder loan':[],\n",
    "              'Equity':[],\n",
    "              'Cash balance':[],\n",
    "              'Operating profit':[],\n",
    "              'Depreciation & Amortization':[],\n",
    "              'Interest (expense)/ income and decommissioning':[],\n",
    "              'Tax expense':[],\n",
    "              'Distributions':[],\n",
    "              'Retained earning balance':[]}\n",
    "\n",
    "# /Users/filiptomanka/Programming/excel_coding/transform_data.ipynb\n",
    "\n",
    "def get_cols_dict(\n",
    "        df, \n",
    "        row_index = 3\n",
    "        ) -> dict:\n",
    "    \"\"\" \n",
    "    Returns dictionary of datetime columns and their column indexes.\n",
    "\n",
    "    \"\"\"\n",
    "\n",
    "    row_values = df.iloc[row_index]\n",
    "    dict_column_indexes = {}\n",
    "\n",
    "    for column_index, value in enumerate(row_values):\n",
    "        value_type = type(value).__name__\n",
    "        if value_type == 'datetime':\n",
    "\n",
    "            if value in dict_column_indexes.keys():\n",
    "                dict_column_indexes[value].append(column_index)\n",
    "\n",
    "            else:\n",
    "                dict_column_indexes[value] = [column_index]\n",
    "\n",
    "\n",
    "    return dict_column_indexes\n",
    "\n",
    "def get_rows_dict(df, \n",
    "                  col_index = 1\n",
    "                  ) -> dict:\n",
    "    \"\"\" \n",
    "    Returns dictionary of FS items and their row indexes.\n",
    "\n",
    "    \"\"\"\n",
    "\n",
    "\n",
    "    dict_rows = {}\n",
    "\n",
    "    for row_index, rows in df.iterrows():\n",
    "        \n",
    "        fs_item = rows[col_index]\n",
    "        if fs_item in dict_fs_items.keys():\n",
    "            \n",
    "            if fs_item in dict_rows.keys():\n",
    "                dict_rows[fs_item].append(row_index)\n",
    "            else:\n",
    "                dict_rows[fs_item] = [row_index]\n",
    "\n",
    "    return dict_rows\n",
    "\n",
    "def create_output_df(df, dict_rows, dict_cols, file_name ='testing_model') -> pd.DataFrame:\n",
    "    \"\"\"\n",
    "    Returns output dataframe containing FS data to be used in later analysis.\n",
    "    \"\"\"\n",
    "\n",
    "    dict_output = {'entity':[],\n",
    "                'fs_item':[],\n",
    "                'fs_sub_item':[],\n",
    "                'date':[],\n",
    "                'value':[]}\n",
    "\n",
    "    for row_name, row_indexes in dict_rows.items():\n",
    "        for col_name, col_indexes in dict_cols.items():\n",
    "            for row_index in row_indexes:\n",
    "                for col_index in col_indexes:\n",
    "\n",
    "                    data = df.iloc[row_index, col_index]\n",
    "                    dict_output['entity'].append(file_name)\n",
    "                    dict_output['fs_item'].append(row_name)\n",
    "                    dict_output['fs_sub_item'].append(df.iloc[row_index, 2])\n",
    "                    dict_output['date'].append(col_name)\n",
    "                    dict_output['value'].append(data)\n",
    "\n",
    "    df_output = pd.DataFrame(dict_output)\n",
    "    df_output.dropna(subset=['value'], inplace=True)\n",
    "\n",
    "    return df_output"
   ]
  },
  {
   "attachments": {},
   "cell_type": "markdown",
   "metadata": {},
   "source": [
    "#### Processing of input excel"
   ]
  },
  {
   "cell_type": "code",
   "execution_count": 8,
   "metadata": {},
   "outputs": [],
   "source": [
    "# Specify the path to your Excel file\n",
    "excel_file = 'data/exported_gpc_model_1.xlsx'\n",
    "\n",
    "# Load the specified sheet into a Pandas dataframe\n",
    "df = pd.read_excel(excel_file, sheet_name = 0, index_col= None, header = None)\n",
    "\n",
    "# Fill values in column B\n",
    "df[1] = df[1].fillna(method='ffill')\n",
    "\n",
    "dict_rows = get_rows_dict(df)\n",
    "dict_cols = get_cols_dict(df)\n",
    "df_output = create_output_df(df, dict_rows, dict_cols)\n",
    "df_output.to_excel('output.xlsx', index=False)     \n"
   ]
  },
  {
   "attachments": {},
   "cell_type": "markdown",
   "metadata": {},
   "source": [
    "#### Processing of all excel files in data folder"
   ]
  },
  {
   "cell_type": "code",
   "execution_count": 12,
   "metadata": {},
   "outputs": [
    {
     "name": "stdout",
     "output_type": "stream",
     "text": [
      "Processing file exported_gpc_model_2.xlsx\n",
      "Processing file exported_abrakadabra_model_2 copy.xlsx\n",
      "Processing file exported_gpc_model_1.xlsx\n"
     ]
    }
   ],
   "source": [
    "import os\n",
    "\n",
    "folder_path = 'data'\n",
    "\n",
    "dict_output = {'entity':[],\n",
    "            'fs_item':[],\n",
    "            'fs_sub_item':[],\n",
    "            'date':[],\n",
    "            'value':[]}\n",
    "\n",
    "df_output = pd.DataFrame(dict_output)\n",
    "\n",
    "# Loop through files in the folder\n",
    "for file_name in os.listdir(folder_path):\n",
    "    if file_name.startswith('exported') and file_name.endswith('.xlsx'):\n",
    "\n",
    "        print(f'Processing file {file_name}')\n",
    "\n",
    "        # Construct the full file path\n",
    "        file_path = os.path.join(folder_path, file_name)\n",
    "\n",
    "        # Load the specified sheet into a Pandas dataframe\n",
    "        df = pd.read_excel(file_path, sheet_name=0, index_col=None, header = None)\n",
    "\n",
    "        # Fill values in column B\n",
    "        df[1] = df[1].fillna(method='ffill')\n",
    "\n",
    "        dict_rows = get_rows_dict(df)\n",
    "        dict_cols = get_cols_dict(df)\n",
    "        df_temp = create_output_df(df, dict_rows, dict_cols, file_name)\n",
    "        df_output = pd.concat([df_output, df_temp], ignore_index=True)\n",
    "\n",
    "        \n",
    "df_output.to_excel('output.xlsx', index=False)   "
   ]
  },
  {
   "attachments": {},
   "cell_type": "markdown",
   "metadata": {},
   "source": [
    "# Notes"
   ]
  },
  {
   "attachments": {},
   "cell_type": "markdown",
   "metadata": {},
   "source": [
    "Example of formating the data"
   ]
  },
  {
   "cell_type": "code",
   "execution_count": 124,
   "metadata": {},
   "outputs": [
    {
     "name": "stdout",
     "output_type": "stream",
     "text": [
      "2022-12-31 00:00:00\n",
      "31.12.2022\n"
     ]
    }
   ],
   "source": [
    "keys = list(dict_cols.keys())\n",
    "print(keys[0])\n",
    "formatted_string = keys[0].strftime(\"%d.%m.%Y\")\n",
    "print(formatted_string)"
   ]
  }
 ],
 "metadata": {
  "kernelspec": {
   "display_name": "env_excel",
   "language": "python",
   "name": "python3"
  },
  "language_info": {
   "codemirror_mode": {
    "name": "ipython",
    "version": 3
   },
   "file_extension": ".py",
   "mimetype": "text/x-python",
   "name": "python",
   "nbconvert_exporter": "python",
   "pygments_lexer": "ipython3",
   "version": "3.11.3"
  },
  "orig_nbformat": 4
 },
 "nbformat": 4,
 "nbformat_minor": 2
}
