{
 "cells": [
  {
   "cell_type": "code",
   "execution_count": null,
   "metadata": {},
   "outputs": [],
   "source": [
    "df = df_processed_data.copy()\n",
    "\n",
    "# Select the entities you want to compare\n",
    "entity1 = 'exported_gpc_model_1.xlsx'\n",
    "entity2 = 'exported_gpc_model_2.xlsx'\n",
    "\n",
    "# Filter the DataFrame for the selected entities\n",
    "filtered_df = df[df['entity'].isin([entity1, entity2])]\n",
    "filtered_df"
   ]
  }
 ],
 "metadata": {
  "language_info": {
   "name": "python"
  },
  "orig_nbformat": 4
 },
 "nbformat": 4,
 "nbformat_minor": 2
}
