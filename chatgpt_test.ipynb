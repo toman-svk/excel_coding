{
 "cells": [
  {
   "cell_type": "code",
   "execution_count": 9,
   "metadata": {},
   "outputs": [],
   "source": [
    "import openai\n",
    "import os\n",
    "import pandas as pd"
   ]
  },
  {
   "cell_type": "code",
   "execution_count": 10,
   "metadata": {},
   "outputs": [
    {
     "data": {
      "text/html": [
       "<div>\n",
       "<style scoped>\n",
       "    .dataframe tbody tr th:only-of-type {\n",
       "        vertical-align: middle;\n",
       "    }\n",
       "\n",
       "    .dataframe tbody tr th {\n",
       "        vertical-align: top;\n",
       "    }\n",
       "\n",
       "    .dataframe thead th {\n",
       "        text-align: right;\n",
       "    }\n",
       "</style>\n",
       "<table border=\"1\" class=\"dataframe\">\n",
       "  <thead>\n",
       "    <tr style=\"text-align: right;\">\n",
       "      <th></th>\n",
       "      <th>FS item</th>\n",
       "      <th>FS subitem</th>\n",
       "      <th>Change</th>\n",
       "    </tr>\n",
       "  </thead>\n",
       "  <tbody>\n",
       "    <tr>\n",
       "      <th>0</th>\n",
       "      <td>Operational expenditure</td>\n",
       "      <td>O&amp;M related costs</td>\n",
       "      <td>-14747.990107</td>\n",
       "    </tr>\n",
       "    <tr>\n",
       "      <th>1</th>\n",
       "      <td>Operational expenditure</td>\n",
       "      <td>Land related costs</td>\n",
       "      <td>-20255.516366</td>\n",
       "    </tr>\n",
       "    <tr>\n",
       "      <th>2</th>\n",
       "      <td>Operational expenditure</td>\n",
       "      <td>External professional services</td>\n",
       "      <td>9781.981694</td>\n",
       "    </tr>\n",
       "    <tr>\n",
       "      <th>3</th>\n",
       "      <td>Operational expenditure</td>\n",
       "      <td>IT costs</td>\n",
       "      <td>13873.414027</td>\n",
       "    </tr>\n",
       "    <tr>\n",
       "      <th>4</th>\n",
       "      <td>Operational expenditure</td>\n",
       "      <td>Insurance costs</td>\n",
       "      <td>-6495.559284</td>\n",
       "    </tr>\n",
       "  </tbody>\n",
       "</table>\n",
       "</div>"
      ],
      "text/plain": [
       "                   FS item                      FS subitem        Change\n",
       "0  Operational expenditure               O&M related costs -14747.990107\n",
       "1  Operational expenditure              Land related costs -20255.516366\n",
       "2  Operational expenditure  External professional services   9781.981694\n",
       "3  Operational expenditure                        IT costs  13873.414027\n",
       "4  Operational expenditure                 Insurance costs  -6495.559284"
      ]
     },
     "execution_count": 10,
     "metadata": {},
     "output_type": "execute_result"
    }
   ],
   "source": [
    "excel_path = '/Users/filiptomanka/Programming/excel_coding/data/charlie_comparison/cond_comparison_lite.xlsx'\n",
    "\n",
    "df = pd.read_excel(excel_path, index_col=None)\n",
    "df.head(5)"
   ]
  },
  {
   "cell_type": "code",
   "execution_count": 12,
   "metadata": {},
   "outputs": [
    {
     "data": {
      "text/plain": [
       "'                          FS item                                                                     FS subitem        Change\\n          Operational expenditure                                                              O&M related costs -1.474799e+04\\n          Operational expenditure                                                             Land related costs -2.025552e+04\\n          Operational expenditure                                                 External professional services  9.781982e+03\\n          Operational expenditure                                                                       IT costs  1.387341e+04\\n          Operational expenditure                                                                Insurance costs -6.495559e+03\\n          Operational expenditure                                                                 Overhead costs  5.426651e+03\\n          Operational expenditure                                                                    Other costs -2.070791e+03\\n                      Adjustments                                                  Movements in Accounts Payable -8.526513e-14\\n                      Adjustments                                     Interest Income/(Payment) on Cash Balances -4.954636e+02\\n                      Adjustments                                                    Income Taxes Paid/(Refunds)  2.037543e+02\\n                      Adjustments                                                                Net Adjustments -2.917093e+02\\n                      Adjustments                                                           Operating cash flows -1.477952e+04\\n        Change in reserve account                                            Operating cash flows after reserves -1.477952e+04\\n              Capital expenditure                                                              Acquisition costs  5.682569e+03\\n              Capital expenditure                                                      Sub EPC construction cost  2.945274e+03\\n              Capital expenditure                                                                Financing costs -8.080295e+03\\n              Capital expenditure                                                                          Other -4.015491e+02\\n              Capital expenditure                                          Cash Flow Available For Debt Service  -1.463352e+04\\n                          Funding                                                       Senior Local Debt inflow -1.038150e+03\\n                          Funding                                                    Senior Local Debt repayment  1.038150e+03\\n                          Funding                                                 Senior Local Interest Payments  8.129016e+02\\n                          Funding                                                                     VAT inflow -5.853083e+02\\n                          Funding                                                                  VAT repayment  5.853083e+02\\n                          Funding                                                          VAT Interest Payments  9.586817e+00\\n                          Funding                                                                  Junior inflow -2.310039e+02\\n                          Funding                                                               Junior repayment -5.327764e+03\\n                          Funding                                                       Junior Interest Payments -2.788596e+02\\n                          Funding Other Interest & Fees (DSRF, bridge loan financing, working capital financing)  6.365327e-01\\n                          Funding                                                               Funding and cost -5.014503e+03\\n                          Funding                   Cash-flow available before DSRA (and require balance to keep -1.964802e+04\\nRequire balance and DSRA movement                                                 Cash Flow available after DSRA -1.964802e+04\\n                 Shareholder loan                                                                     SHL inflow  6.939634e+02\\n                 Shareholder loan                                                                  SHL repayment -2.766658e+03\\n                 Shareholder loan                                     SHL Interest (including accrued repayment)  5.662968e+03\\n                 Shareholder loan                                                 Cash flow available for equity -1.605775e+04\\n                           Equity                                                              Equity injections  1.683133e+03\\n                           Equity                                                           Equity distributions  1.277339e+04\\n                           Equity                                                                  Net cash flow -1.601223e+03'"
      ]
     },
     "execution_count": 12,
     "metadata": {},
     "output_type": "execute_result"
    }
   ],
   "source": [
    "table_string = df.to_string(index=False)\n",
    "table_string"
   ]
  },
  {
   "cell_type": "code",
   "execution_count": 13,
   "metadata": {},
   "outputs": [
    {
     "name": "stdout",
     "output_type": "stream",
     "text": [
      "Based on the changes between the two versions of the financial model, the following observations can be made:\n",
      "\n",
      "1. Operational Expenditure: There have been various changes in different subitems of operational expenditure. O&M related costs and land related costs have decreased significantly, while external professional services, IT costs, and overhead costs have increased. Insurance costs and other costs have also shown some changes, but to a lesser extent.\n",
      "\n",
      "2. Adjustments: Movements in accounts payable have remained unchanged. However, there have been changes in interest income/(payment) on cash balances, income taxes paid/(refunds), and net adjustments. Operating cash flows have decreased.\n",
      "\n",
      "3. Change in Reserve Account: The change in the reserve account and operating cash flows after reserves has remained the same.\n",
      "\n",
      "4. Capital Expenditure: Acquisition costs, sub EPC construction cost, and financing costs have shown an increase, while other capital expenditure items have decreased. Cash flow available for debt service has decreased.\n",
      "\n",
      "5. Funding: There have been changes in various funding sources. Senior local debt inflow, senior local debt repayment, and senior local interest payments have changed. VAT inflow, VAT repayment, and VAT interest payments have also shown changes. Junior inflow, junior repayment, and junior interest payments have decreased. Funding and cost, as well as cash flow available before DSRA, have decreased.\n",
      "\n",
      "6. Require Balance and DSRA Movement: The require balance and DSRA movement have remained unchanged. The cash flow available after DSRA has also remained the same.\n",
      "\n",
      "7. Shareholder Loan: There have been changes in shareholder loan inflow, shareholder loan repayment, and shareholder loan interest. Cash flow available for equity has decreased.\n",
      "\n",
      "8. Equity: There have been changes in equity injections and equity distributions. The net cash flow has shown a decrease.\n",
      "\n",
      "Overall, the changes in the financial model indicate variations in operational expenditure, adjustments, capital expenditure, funding sources, and equity. These changes can impact the overall financial performance and profitability of the company.\n"
     ]
    }
   ],
   "source": [
    "\n",
    "\n",
    "openai.api_key = os.getenv(\"OPENAI_API_KEY\")\n",
    "\n",
    "prompt = \"Comment on the changes between two versions of a financial model:\\n\\n\" + table_string\n",
    "# prompt = \"Comment on the differences between these two versions of a financial model:\\n\\n\"\n",
    "\n",
    "response = openai.ChatCompletion.create(\n",
    "  model=\"gpt-3.5-turbo\",\n",
    "  messages=[\n",
    "        {\"role\": \"system\", \"content\": \"You are financial analyst.\"},\n",
    "        {\"role\": \"user\", \"content\": prompt},\n",
    "    ]\n",
    ")\n",
    "\n",
    "# print(response)\n",
    "print(response['choices'][0]['message']['content'])"
   ]
  },
  {
   "cell_type": "code",
   "execution_count": null,
   "metadata": {},
   "outputs": [],
   "source": []
  },
  {
   "cell_type": "code",
   "execution_count": null,
   "metadata": {},
   "outputs": [],
   "source": []
  }
 ],
 "metadata": {
  "kernelspec": {
   "display_name": "env_excel",
   "language": "python",
   "name": "python3"
  },
  "language_info": {
   "codemirror_mode": {
    "name": "ipython",
    "version": 3
   },
   "file_extension": ".py",
   "mimetype": "text/x-python",
   "name": "python",
   "nbconvert_exporter": "python",
   "pygments_lexer": "ipython3",
   "version": "3.11.3"
  },
  "orig_nbformat": 4
 },
 "nbformat": 4,
 "nbformat_minor": 2
}
