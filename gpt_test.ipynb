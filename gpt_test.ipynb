{
 "cells": [
  {
   "cell_type": "code",
   "execution_count": null,
   "metadata": {},
   "outputs": [],
   "source": [
    "import os\n",
    "import openai\n",
    "# openai.organization = \"org-xxUpkHTO5tSQRgpkek0eZP9h\"\n",
    "openai.api_key = os.getenv(\"OPENAI_API_KEY\")\n",
    "openai.Model.list()"
   ]
  },
  {
   "cell_type": "code",
   "execution_count": null,
   "metadata": {},
   "outputs": [],
   "source": [
    "import os\n",
    "import openai\n",
    "openai.api_key = os.getenv(\"OPENAI_API_KEY\")\n",
    "openai.ChatCompletion.create(\n",
    "  model=\"gpt-3.5-turbo\",\n",
    "  prompt=\"Say this is a test\",\n",
    "  max_tokens=7,\n",
    "  temperature=0\n",
    ")"
   ]
  },
  {
   "cell_type": "code",
   "execution_count": 3,
   "metadata": {},
   "outputs": [
    {
     "name": "stdout",
     "output_type": "stream",
     "text": [
      "{\n",
      "  \"id\": \"chatcmpl-7XXrcLgULpd5arJ8ZsvBRsh8CEVaX\",\n",
      "  \"object\": \"chat.completion\",\n",
      "  \"created\": 1688229352,\n",
      "  \"model\": \"gpt-3.5-turbo-0613\",\n",
      "  \"choices\": [\n",
      "    {\n",
      "      \"index\": 0,\n",
      "      \"message\": {\n",
      "        \"role\": \"assistant\",\n",
      "        \"content\": \"Based on the information provided, an increase in revenues accompanied by a decrease in profit could suggest several possible scenarios:\\n\\n1. Increase in costs: The increase in revenues may be offset by a higher proportionate increase in expenses, such as production costs, labor costs, or other operating expenses. This could be due to factors like inflation, wage increases, or increased raw material prices.\\n\\n2. Pricing issues: It is possible that the company has increased its revenues by lowering its prices, resulting in a decrease in profit margin. This strategy could be a deliberate choice to gain market share or compete with competitors, but it can negatively impact profitability.\\n\\n3. Inefficient operations: Despite increased revenues, the company may have failed to control costs or optimize its operations effectively. Inefficient processes, wastage, or poor inventory management can lead to increased expenses and lower profitability over time.\\n\\n4. Regulatory changes or taxes: Changes in tax regulations or other legal requirements can impact a company's profitability. Although revenues have increased, the introduction of new taxes or an increase in the tax burden could be the reason for the decline in profit.\\n\\nIt's important to perform a detailed analysis of the financial statements, including a review of the income statement, to identify the specific factors causing the decrease in profit. Assessing the cost structure, pricing strategy, operational efficiency, and regulatory factors can help pinpoint the underlying causes and develop appropriate strategies to improve profitability.\"\n",
      "      },\n",
      "      \"finish_reason\": \"stop\"\n",
      "    }\n",
      "  ],\n",
      "  \"usage\": {\n",
      "    \"prompt_tokens\": 40,\n",
      "    \"completion_tokens\": 282,\n",
      "    \"total_tokens\": 322\n",
      "  }\n",
      "}\n"
     ]
    }
   ],
   "source": [
    "import openai\n",
    "import os\n",
    "import pandas as pd\n",
    "\n",
    "openai.api_key = os. getenv(\"OPENAI_API_KEY\")\n",
    "\n",
    "table_string = pivot_df.to_string(index=False)\n",
    "\n",
    "prompt = \"Comment on the development of following financial data:\\n\\n\" + table_string\n",
    "\n",
    "response = openai.ChatCompletion.create(\n",
    "  model=\"gpt-3.5-turbo\",\n",
    "  messages=[\n",
    "        {\"role\": \"system\", \"content\": \"You are a financial controller.\"},\n",
    "        {\"role\": \"user\", \"content\": prompt},\n",
    "    ]\n",
    ")\n",
    "\n",
    "# print(response)\n",
    "print(response['choices'][0]['message']['content'])"
   ]
  },
  {
   "cell_type": "code",
   "execution_count": 8,
   "metadata": {},
   "outputs": [
    {
     "name": "stdout",
     "output_type": "stream",
     "text": [
      "Based on the information provided, an increase in revenues accompanied by a decrease in profit could suggest several possible scenarios:\n",
      "\n",
      "1. Increase in costs: The increase in revenues may be offset by a higher proportionate increase in expenses, such as production costs, labor costs, or other operating expenses. This could be due to factors like inflation, wage increases, or increased raw material prices.\n",
      "\n",
      "2. Pricing issues: It is possible that the company has increased its revenues by lowering its prices, resulting in a decrease in profit margin. This strategy could be a deliberate choice to gain market share or compete with competitors, but it can negatively impact profitability.\n",
      "\n",
      "3. Inefficient operations: Despite increased revenues, the company may have failed to control costs or optimize its operations effectively. Inefficient processes, wastage, or poor inventory management can lead to increased expenses and lower profitability over time.\n",
      "\n",
      "4. Regulatory changes or taxes: Changes in tax regulations or other legal requirements can impact a company's profitability. Although revenues have increased, the introduction of new taxes or an increase in the tax burden could be the reason for the decline in profit.\n",
      "\n",
      "It's important to perform a detailed analysis of the financial statements, including a review of the income statement, to identify the specific factors causing the decrease in profit. Assessing the cost structure, pricing strategy, operational efficiency, and regulatory factors can help pinpoint the underlying causes and develop appropriate strategies to improve profitability.\n"
     ]
    }
   ],
   "source": [
    "print(response['choices'][0]['message']['content'])"
   ]
  }
 ],
 "metadata": {
  "kernelspec": {
   "display_name": "env_excel",
   "language": "python",
   "name": "python3"
  },
  "language_info": {
   "codemirror_mode": {
    "name": "ipython",
    "version": 3
   },
   "file_extension": ".py",
   "mimetype": "text/x-python",
   "name": "python",
   "nbconvert_exporter": "python",
   "pygments_lexer": "ipython3",
   "version": "3.11.3"
  },
  "orig_nbformat": 4
 },
 "nbformat": 4,
 "nbformat_minor": 2
}
